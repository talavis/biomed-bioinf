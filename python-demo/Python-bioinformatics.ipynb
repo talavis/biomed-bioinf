{
 "cells": [
  {
   "cell_type": "markdown",
   "metadata": {},
   "source": [
    "# Retrieve a sequence from UniProt"
   ]
  },
  {
   "cell_type": "code",
   "execution_count": null,
   "metadata": {},
   "outputs": [],
   "source": [
    "import requests\n",
    "\n",
    "accession = 'Q9BV79'"
   ]
  },
  {
   "cell_type": "markdown",
   "metadata": {},
   "source": [
    "## Annotations"
   ]
  },
  {
   "cell_type": "code",
   "execution_count": null,
   "metadata": {},
   "outputs": [],
   "source": [
    "req_data = requests.get('http://www.uniprot.org/uniprot/' + accession + '.txt')"
   ]
  },
  {
   "cell_type": "code",
   "execution_count": null,
   "metadata": {},
   "outputs": [],
   "source": [
    "req_data.text"
   ]
  },
  {
   "cell_type": "code",
   "execution_count": null,
   "metadata": {},
   "outputs": [],
   "source": [
    "req_data.text.split('\\n')"
   ]
  },
  {
   "cell_type": "markdown",
   "metadata": {},
   "source": [
    "## Structures available?"
   ]
  },
  {
   "cell_type": "code",
   "execution_count": null,
   "metadata": {},
   "outputs": [],
   "source": [
    "for line in req_data.text.split('\\n'):\n",
    "    if 'PDB;' in line:\n",
    "        print(line)"
   ]
  },
  {
   "cell_type": "code",
   "execution_count": null,
   "metadata": {},
   "outputs": [],
   "source": [
    "structdata = []\n",
    "for line in req_data.text.split('\\n'):\n",
    "    if 'PDB;' in line:\n",
    "        code = line.split(';')[1].strip()\n",
    "        structdata.append(code)\n",
    "print(structdata)"
   ]
  },
  {
   "cell_type": "markdown",
   "metadata": {},
   "source": [
    "## Sequence"
   ]
  },
  {
   "cell_type": "code",
   "execution_count": null,
   "metadata": {},
   "outputs": [],
   "source": [
    "req_seq = requests.get('http://www.uniprot.org/uniprot/' + accession + '.fasta')\n",
    "print(req_seq.text)"
   ]
  },
  {
   "cell_type": "markdown",
   "metadata": {},
   "source": [
    "## Multiple proteins"
   ]
  },
  {
   "cell_type": "code",
   "execution_count": null,
   "metadata": {},
   "outputs": [],
   "source": [
    "accessions = ['P97584', 'P00328', 'P19096', 'S0DRI1', 'A2R6H1', 'Q29073', 'P34055', 'Q24K16', 'W7LKX1', \n",
    "              'P38230', 'Q4W4Z2', 'W7MT31', 'Q64413', 'Q9Z2M2', 'P00327', 'P49327', 'P12785', 'Q9SLN8',\n",
    "              'A0A0D2YG10', 'P79896', 'P26646', 'P0DN30', 'F2Z678', 'Q9P6C8', 'O57380', 'P22797']"
   ]
  },
  {
   "cell_type": "code",
   "execution_count": null,
   "metadata": {},
   "outputs": [],
   "source": [
    "for accession in accessions:\n",
    "    req_data = requests.get('http://www.uniprot.org/uniprot/' + accession + '.txt')\n",
    "    structdata = [line for line in req_data.text.split('\\n') if 'PDB;' in line]\n",
    "    codes = [column.split(';')[1].strip() for column in structdata]\n",
    "    if len(codes) > 0:\n",
    "        print(accession)\n",
    "        print(','.join(codes))\n",
    "        print()"
   ]
  },
  {
   "cell_type": "markdown",
   "metadata": {},
   "source": [
    "# BLAST"
   ]
  },
  {
   "cell_type": "code",
   "execution_count": null,
   "metadata": {},
   "outputs": [],
   "source": [
    "query_fasta = req_seq.text\n",
    "print(query_fasta)"
   ]
  },
  {
   "cell_type": "code",
   "execution_count": null,
   "metadata": {},
   "outputs": [],
   "source": [
    "from Bio.Blast import NCBIWWW\n",
    "\n",
    "result_handle = NCBIWWW.qblast(\"blastp\", \"swissprot\", query_fasta)\n",
    "\n",
    "from Bio.Blast import NCBIXML\n",
    "\n",
    "blast_record = NCBIXML.read(result_handle)"
   ]
  },
  {
   "cell_type": "code",
   "execution_count": null,
   "metadata": {},
   "outputs": [],
   "source": [
    "for alignment in blast_record.alignments:\n",
    "    for hsp in alignment.hsps:\n",
    "       print('****Alignment****')\n",
    "       print('sequence:', alignment.title)\n",
    "       print('length:', alignment.length)\n",
    "       print('e value:', hsp.expect)"
   ]
  },
  {
   "cell_type": "code",
   "execution_count": null,
   "metadata": {},
   "outputs": [],
   "source": [
    "for alignment in blast_record.alignments:\n",
    "    for hsp in alignment.hsps:\n",
    "        if hsp.expect < 10**-20:\n",
    "            print(alignment.title)"
   ]
  },
  {
   "cell_type": "code",
   "execution_count": null,
   "metadata": {},
   "outputs": [],
   "source": [
    "for alignment in blast_record.alignments:\n",
    "    for hsp in alignment.hsps:\n",
    "        if hsp.expect < 10**-20:\n",
    "            print(alignment.title.split('|')[3])"
   ]
  },
  {
   "cell_type": "code",
   "execution_count": null,
   "metadata": {},
   "outputs": [],
   "source": [
    "for alignment in blast_record.alignments:\n",
    "    for hsp in alignment.hsps:\n",
    "        if hsp.expect < 10**-20:\n",
    "            raw_accession = alignment.title.split('|')[3]\n",
    "            print(raw_accession[:raw_accession.index('.')])"
   ]
  },
  {
   "cell_type": "code",
   "execution_count": null,
   "metadata": {},
   "outputs": [],
   "source": [
    "blast_accessions = []\n",
    "\n",
    "for alignment in blast_record.alignments:\n",
    "    for hsp in alignment.hsps:\n",
    "        if hsp.expect < 10**-20:\n",
    "            raw_accession = alignment.title.split('|')[3]\n",
    "            blast_accessions.append(raw_accession[:raw_accession.index('.')])\n",
    "    \n",
    "    \n",
    "print(blast_accessions)"
   ]
  },
  {
   "cell_type": "code",
   "execution_count": null,
   "metadata": {},
   "outputs": [],
   "source": [
    "for accession in blast_accessions:\n",
    "    req_data = requests.get('http://www.uniprot.org/uniprot/' + accession + '.txt')\n",
    "    structdata = [line for line in req_data.text.split('\\n') if 'PDB;' in line]\n",
    "    codes = [column.split(';')[1].strip() for column in structdata]\n",
    "    if len(codes) > 0:\n",
    "        print(accession)\n",
    "        print(','.join(codes))\n",
    "        print()"
   ]
  },
  {
   "cell_type": "markdown",
   "metadata": {},
   "source": [
    "# Multiple sequence alignment"
   ]
  },
  {
   "cell_type": "markdown",
   "metadata": {},
   "source": [
    "## Get sequences"
   ]
  },
  {
   "cell_type": "code",
   "execution_count": null,
   "metadata": {},
   "outputs": [],
   "source": [
    "fasta_sequences = [] \n",
    "for accession in blast_accessions:\n",
    "    req_seq = requests.get('http://www.uniprot.org/uniprot/' + accession + '.fasta')\n",
    "    fasta_sequences.append(req_seq.text)\n",
    "\n",
    "for sequence in fasta_sequences:\n",
    "    print(sequence)"
   ]
  },
  {
   "cell_type": "code",
   "execution_count": null,
   "metadata": {},
   "outputs": [],
   "source": [
    "outfile = open('blast_hits.fasta', 'w')\n",
    "for sequence in fasta_sequences:\n",
    "        outfile.write(sequence)"
   ]
  },
  {
   "cell_type": "markdown",
   "metadata": {},
   "source": [
    "### Make multiple sequence alignment in Clustal Omega"
   ]
  },
  {
   "cell_type": "code",
   "execution_count": null,
   "metadata": {},
   "outputs": [],
   "source": [
    "!clustalo -i blast_hits.fasta -o blast_hits.cali"
   ]
  },
  {
   "cell_type": "markdown",
   "metadata": {},
   "source": [
    "### Continue with analysis"
   ]
  },
  {
   "cell_type": "code",
   "execution_count": null,
   "metadata": {},
   "outputs": [],
   "source": [
    "from Bio import AlignIO\n",
    "alignment = AlignIO.read(\"blast_hits.cali\", \"fasta\")"
   ]
  },
  {
   "cell_type": "code",
   "execution_count": null,
   "metadata": {},
   "outputs": [],
   "source": [
    "for seq in alignment:\n",
    "    print(seq.seq[:100])"
   ]
  },
  {
   "cell_type": "code",
   "execution_count": null,
   "metadata": {},
   "outputs": [],
   "source": [
    "from Bio.Align import AlignInfo\n",
    "\n",
    "summary_align = AlignInfo.SummaryInfo(alignment)"
   ]
  },
  {
   "cell_type": "markdown",
   "metadata": {},
   "source": [
    "## Consensus sequence"
   ]
  },
  {
   "cell_type": "code",
   "execution_count": null,
   "metadata": {},
   "outputs": [],
   "source": [
    "summary_align.dumb_consensus()"
   ]
  },
  {
   "cell_type": "markdown",
   "metadata": {},
   "source": [
    "## PSSM"
   ]
  },
  {
   "cell_type": "code",
   "execution_count": null,
   "metadata": {},
   "outputs": [],
   "source": [
    "pssm = summary_align.pos_specific_score_matrix()\n",
    "\n",
    "print(pssm)"
   ]
  },
  {
   "cell_type": "code",
   "execution_count": null,
   "metadata": {},
   "outputs": [],
   "source": [
    "for position in pssm:\n",
    "    print(max(position.values())/len(alignment))"
   ]
  },
  {
   "cell_type": "code",
   "execution_count": null,
   "metadata": {},
   "outputs": [],
   "source": [
    "import matplotlib.pyplot as plt\n",
    "%matplotlib inline\n",
    "\n",
    "\n",
    "values = []\n",
    "for position in pssm:\n",
    "    values.append(max(position.values())/len(alignment))\n",
    "    \n",
    "plt.plot(values)"
   ]
  },
  {
   "cell_type": "markdown",
   "metadata": {},
   "source": [
    "# Assignment 1"
   ]
  },
  {
   "cell_type": "markdown",
   "metadata": {},
   "source": [
    "## Handle sequences and perform alignment"
   ]
  },
  {
   "cell_type": "code",
   "execution_count": null,
   "metadata": {},
   "outputs": [],
   "source": [
    "import requests\n",
    "\n",
    "cyp21_seq = requests.get('http://www.uniprot.org/uniprot/P08686.fasta').text\n",
    "\n",
    "mut_seq = '''>cyp21a2_translated_mut\n",
    "MLLLGLLLLLPLLAGARLLWNWWKLRSLHLPPLAPGFLHLLQPDLPIYLLGLTQKFGPIY\n",
    "RLHLGLQDVVVLNSKRTIEEAMVKKWADFAGRPEPLTYRLVSKNYPDLSLGDYSLLWKAH\n",
    "KKLTRSALLLGIRDSMEPVVEQLTQEFCERMRAQPGTPVAIEEEFSLLTCSIICYLTFGD\n",
    "KIKDDNLMPAYYKCIQEVLKTWSHWSIQIVDVIPFLRFFPNPGLRRLKQAIEKRDHIVEM\n",
    "QLRQHKESLVAGQWRDMMDYMLQGVAQPSMEEGSGQLLEGHVHMAAVDLLISGTETTANT\n",
    "LSWAVVFLLHHPEIQQRLQEELDHELGPGASSSRVPYKDRARLPLLNATIAEVLRLRPVV\n",
    "PLALPHRTTRPSSISGYDIPEGTVIIPNLQGAHLDETVWERPHEFWPDRFLEPGKNSRAL\n",
    "AFGCGARVRLGEPLARLELFVVLTRLLQAFTLLPSGDALPSLQPLPHCSVILKMQPFQVR\n",
    "LQPRGMGAHSPGQNQ'''\n",
    "\n",
    "with open('cyp21_comparison.fasta', 'w') as outfile:\n",
    "    outfile.write(cyp21_seq)\n",
    "    outfile.write(mut_seq)"
   ]
  },
  {
   "cell_type": "code",
   "execution_count": null,
   "metadata": {},
   "outputs": [],
   "source": [
    "! kalign cyp21_comparison.fasta > cyp21_comparison.kali 2> /dev/null"
   ]
  },
  {
   "cell_type": "markdown",
   "metadata": {},
   "source": [
    "## Find mutations"
   ]
  },
  {
   "cell_type": "code",
   "execution_count": null,
   "metadata": {},
   "outputs": [],
   "source": [
    "from Bio import AlignIO\n",
    "alignment = AlignIO.read(\"cyp21_comparison.kali\", \"fasta\")\n",
    "\n",
    "print('Pos\\tCYP21\\tMut')\n",
    "muts = []\n",
    "prot_pos = 0\n",
    "for i in range(len(alignment[0])):\n",
    "    if alignment[0][i] != alignment[1][i]:\n",
    "        muts.append([str(prot_pos+1), alignment[0][i], alignment[1][i]])\n",
    "        print('\\t'.join(muts[-1]))\n",
    "    if alignment[0][i] != '-':\n",
    "        prot_pos += 1\n"
   ]
  },
  {
   "cell_type": "markdown",
   "metadata": {},
   "source": [
    "## Look for information in UniProt"
   ]
  },
  {
   "cell_type": "code",
   "execution_count": null,
   "metadata": {},
   "outputs": [],
   "source": [
    "cyp21_data = requests.get('http://www.uniprot.org/uniprot/P08686.txt').text\n",
    "\n",
    "positions = []\n",
    "for mut in muts:\n",
    "    positions.append(mut[0])\n",
    "\n",
    "for line in cyp21_data.split('\\n'):\n",
    "    if line[:2] == 'FT': # Feature Table\n",
    "        for pos in positions:\n",
    "            if ' ' + pos + ' ' in line[:27]:\n",
    "                    print(line)"
   ]
  }
 ],
 "metadata": {
  "kernelspec": {
   "display_name": "python-demo",
   "language": "python",
   "name": "python-demo"
  },
  "language_info": {
   "codemirror_mode": {
    "name": "ipython",
    "version": 3
   },
   "file_extension": ".py",
   "mimetype": "text/x-python",
   "name": "python",
   "nbconvert_exporter": "python",
   "pygments_lexer": "ipython3",
   "version": "3.6.4"
  }
 },
 "nbformat": 4,
 "nbformat_minor": 2
}
