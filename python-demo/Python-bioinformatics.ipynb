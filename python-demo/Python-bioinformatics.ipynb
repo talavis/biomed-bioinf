{
 "cells": [
  {
   "cell_type": "markdown",
   "metadata": {},
   "source": [
    "# BioPython\n",
    "Biopython is a large python module for performing common procedures in bioinformatics, including e.g. analysis of sequences.\n",
    "\n",
    "http://biopython.org/"
   ]
  },
  {
   "cell_type": "markdown",
   "metadata": {},
   "source": [
    "# Retrieve a sequence from UniProt"
   ]
  },
  {
   "cell_type": "code",
   "execution_count": null,
   "metadata": {},
   "outputs": [],
   "source": [
    "accession = 'Q9BV79'"
   ]
  },
  {
   "cell_type": "markdown",
   "metadata": {},
   "source": [
    "## Annotations"
   ]
  },
  {
   "cell_type": "code",
   "execution_count": null,
   "metadata": {},
   "outputs": [],
   "source": [
    "from Bio import ExPASy\n",
    "from Bio import SwissProt\n",
    "\n",
    "handle = ExPASy.get_sprot_raw(accession) # download data from UniProt\n",
    "record = SwissProt.read(handle) # parse (interpret) the data"
   ]
  },
  {
   "cell_type": "code",
   "execution_count": null,
   "metadata": {},
   "outputs": [],
   "source": [
    "print(record.description)"
   ]
  },
  {
   "cell_type": "code",
   "execution_count": null,
   "metadata": {},
   "outputs": [],
   "source": [
    "print(help(record))"
   ]
  },
  {
   "cell_type": "markdown",
   "metadata": {},
   "source": [
    "## Structures available?"
   ]
  },
  {
   "cell_type": "code",
   "execution_count": null,
   "metadata": {},
   "outputs": [],
   "source": [
    "for cross_ref in record.cross_references:\n",
    "    if cross_ref[0] == 'PDB':\n",
    "        print(cross_ref)"
   ]
  },
  {
   "cell_type": "code",
   "execution_count": null,
   "metadata": {},
   "outputs": [],
   "source": [
    "pdb_codes = []\n",
    "for cross_ref in record.cross_references:\n",
    "    if cross_ref[0] == 'PDB':\n",
    "        pdb_codes.append(cross_ref[1])\n",
    "\n",
    "print(pdb_codes)"
   ]
  },
  {
   "cell_type": "markdown",
   "metadata": {},
   "source": [
    "## Sequence"
   ]
  },
  {
   "cell_type": "code",
   "execution_count": null,
   "metadata": {},
   "outputs": [],
   "source": [
    "print(record.sequence)"
   ]
  },
  {
   "cell_type": "code",
   "execution_count": null,
   "metadata": {},
   "outputs": [],
   "source": [
    "sequence = record.sequence\n",
    "print('>', record.entry_name, record.accessions[0])\n",
    "print(record.sequence)\n"
   ]
  },
  {
   "cell_type": "markdown",
   "metadata": {},
   "source": [
    "## Multiple proteins"
   ]
  },
  {
   "cell_type": "code",
   "execution_count": null,
   "metadata": {},
   "outputs": [],
   "source": [
    "accessions = ['P97584', 'P00328', 'P19096', 'S0DRI1', 'A2R6H1', 'Q29073', 'P34055', 'Q24K16', 'W7LKX1', \n",
    "              'P38230', 'Q4W4Z2', 'W7MT31', 'Q64413', 'Q9Z2M2', 'P00327', 'P49327', 'P12785', 'Q9SLN8',\n",
    "              'A0A0D2YG10', 'P79896', 'P26646', 'P0DN30', 'F2Z678', 'Q9P6C8', 'O57380', 'P22797']"
   ]
  },
  {
   "cell_type": "code",
   "execution_count": null,
   "metadata": {},
   "outputs": [],
   "source": [
    "for accession in accessions:\n",
    "    handle = ExPASy.get_sprot_raw(accession) # download data from UniProt\n",
    "    record = SwissProt.read(handle) # parse (interpret) the data\n",
    "    pdb_codes = []\n",
    "    for cross_ref in record.cross_references:\n",
    "        if cross_ref[0] == 'PDB':\n",
    "            pdb_codes.append(cross_ref[1])\n",
    "    if len(pdb_codes) > 0: # if any structures were found\n",
    "        print(accession)\n",
    "        print(', '.join(pdb_codes))\n",
    "        print()"
   ]
  },
  {
   "cell_type": "markdown",
   "metadata": {},
   "source": [
    "# BLAST"
   ]
  },
  {
   "cell_type": "code",
   "execution_count": null,
   "metadata": {},
   "outputs": [],
   "source": [
    "query_fasta = sequence\n",
    "print(query_fasta)"
   ]
  },
  {
   "cell_type": "code",
   "execution_count": null,
   "metadata": {},
   "outputs": [],
   "source": [
    "from Bio.Blast import NCBIWWW\n",
    "from Bio.Blast import NCBIXML\n",
    "\n",
    "# Use BLAST at NCBI\n",
    "result_handle = NCBIWWW.qblast(\"blastp\", \"swissprot\", query_fasta)\n",
    "\n",
    "# parse the BLAST result\n",
    "blast_record = NCBIXML.read(result_handle)"
   ]
  },
  {
   "cell_type": "code",
   "execution_count": null,
   "metadata": {},
   "outputs": [],
   "source": [
    "for alignment in blast_record.alignments:\n",
    "    for hsp in alignment.hsps:\n",
    "       print('****Alignment****')\n",
    "       print('sequence:', alignment.title)\n",
    "       print('length:', alignment.length)\n",
    "       print('e value:', hsp.expect)"
   ]
  },
  {
   "cell_type": "code",
   "execution_count": null,
   "metadata": {},
   "outputs": [],
   "source": [
    "for alignment in blast_record.alignments:\n",
    "    for hsp in alignment.hsps:\n",
    "        if hsp.expect < 10**-20:\n",
    "            print(alignment.title)"
   ]
  },
  {
   "cell_type": "code",
   "execution_count": null,
   "metadata": {},
   "outputs": [],
   "source": [
    "for alignment in blast_record.alignments:\n",
    "    for hsp in alignment.hsps:\n",
    "        if hsp.expect < 10**-20:\n",
    "            print(alignment.title.split('|')[3])"
   ]
  },
  {
   "cell_type": "code",
   "execution_count": null,
   "metadata": {},
   "outputs": [],
   "source": [
    "for alignment in blast_record.alignments:\n",
    "    for hsp in alignment.hsps:\n",
    "        if hsp.expect < 10**-20:\n",
    "            raw_accession = alignment.title.split('|')[3]\n",
    "            print(raw_accession[:raw_accession.index('.')])"
   ]
  },
  {
   "cell_type": "code",
   "execution_count": null,
   "metadata": {},
   "outputs": [],
   "source": [
    "blast_accessions = []\n",
    "\n",
    "for alignment in blast_record.alignments:\n",
    "    for hsp in alignment.hsps:\n",
    "        if hsp.expect < 10**-20:\n",
    "            raw_accession = alignment.title.split('|')[3]\n",
    "            blast_accessions.append(raw_accession[:raw_accession.index('.')])\n",
    "    \n",
    "    \n",
    "print(blast_accessions)"
   ]
  },
  {
   "cell_type": "code",
   "execution_count": null,
   "metadata": {},
   "outputs": [],
   "source": [
    "for accession in blast_accessions:\n",
    "    handle = ExPASy.get_sprot_raw(accession) # download data from UniProt\n",
    "    record = SwissProt.read(handle) # parse (interpret) the data\n",
    "    pdb_codes = []\n",
    "    for cross_ref in record.cross_references:\n",
    "        if cross_ref[0] == 'PDB':\n",
    "            pdb_codes.append(cross_ref[1])\n",
    "    if len(pdb_codes) > 0: # if any structures were found\n",
    "        print(accession)\n",
    "        print(', '.join(pdb_codes))\n",
    "        print()"
   ]
  },
  {
   "cell_type": "markdown",
   "metadata": {},
   "source": [
    "# Multiple sequence alignment"
   ]
  },
  {
   "cell_type": "markdown",
   "metadata": {},
   "source": [
    "## Get sequences"
   ]
  },
  {
   "cell_type": "code",
   "execution_count": null,
   "metadata": {},
   "outputs": [],
   "source": [
    "fasta_sequences = []\n",
    "for accession in blast_accessions:\n",
    "    handle = ExPASy.get_sprot_raw(accession) # download data from UniProt\n",
    "    record = SwissProt.read(handle)\n",
    "    fasta_sequences.append('> ' + record.entry_name + ' ' + record.accessions[0] + '\\n'\n",
    "                            + record.sequence + '\\n') # \\n = newline\n",
    "for sequence in fasta_sequences:\n",
    "    print(sequence)"
   ]
  },
  {
   "cell_type": "code",
   "execution_count": null,
   "metadata": {},
   "outputs": [],
   "source": [
    "outfile = open('blast_hits.fasta', 'w')\n",
    "for sequence in fasta_sequences:\n",
    "        outfile.write(sequence)"
   ]
  },
  {
   "cell_type": "markdown",
   "metadata": {},
   "source": [
    "### Make multiple sequence alignment in Clustal Omega"
   ]
  },
  {
   "cell_type": "code",
   "execution_count": null,
   "metadata": {},
   "outputs": [],
   "source": [
    "# using clustal omega externally\n",
    "!clustalo -i blast_hits.fasta -o blast_hits.cali --force"
   ]
  },
  {
   "cell_type": "markdown",
   "metadata": {},
   "source": [
    "### Continue with analysis"
   ]
  },
  {
   "cell_type": "code",
   "execution_count": null,
   "metadata": {},
   "outputs": [],
   "source": [
    "from Bio import AlignIO\n",
    "alignment = AlignIO.read(\"blast_hits.cali\", \"fasta\")"
   ]
  },
  {
   "cell_type": "code",
   "execution_count": null,
   "metadata": {},
   "outputs": [],
   "source": [
    "for seq in alignment:\n",
    "    print(seq.seq[:100])"
   ]
  },
  {
   "cell_type": "code",
   "execution_count": null,
   "metadata": {},
   "outputs": [],
   "source": [
    "from Bio.Align import AlignInfo\n",
    "\n",
    "summary_align = AlignInfo.SummaryInfo(alignment)"
   ]
  },
  {
   "cell_type": "markdown",
   "metadata": {},
   "source": [
    "## Consensus sequence"
   ]
  },
  {
   "cell_type": "code",
   "execution_count": null,
   "metadata": {},
   "outputs": [],
   "source": [
    "summary_align.dumb_consensus()"
   ]
  },
  {
   "cell_type": "markdown",
   "metadata": {},
   "source": [
    "## PSSM"
   ]
  },
  {
   "cell_type": "code",
   "execution_count": null,
   "metadata": {},
   "outputs": [],
   "source": [
    "pssm = summary_align.pos_specific_score_matrix()\n",
    "\n",
    "print(pssm)"
   ]
  },
  {
   "cell_type": "code",
   "execution_count": null,
   "metadata": {},
   "outputs": [],
   "source": [
    "for position in pssm:\n",
    "    print(max(position.values())/len(alignment))"
   ]
  },
  {
   "cell_type": "code",
   "execution_count": null,
   "metadata": {},
   "outputs": [],
   "source": [
    "import matplotlib.pyplot as plt\n",
    "%matplotlib inline\n",
    "\n",
    "\n",
    "values = []\n",
    "for position in pssm:\n",
    "    values.append(max(position.values())/len(alignment))\n",
    "    \n",
    "fig = plt.figure(figsize = (20, 10))\n",
    "plt.plot(values)"
   ]
  },
  {
   "cell_type": "markdown",
   "metadata": {},
   "source": [
    "# Assignment 1"
   ]
  },
  {
   "cell_type": "markdown",
   "metadata": {},
   "source": [
    "## Handle sequences and perform alignment"
   ]
  },
  {
   "cell_type": "code",
   "execution_count": null,
   "metadata": {},
   "outputs": [],
   "source": [
    "handle = ExPASy.get_sprot_raw('P08686')\n",
    "record = SwissProt.read(handle)\n",
    "\n",
    "cyp21_seq = ('> ' + record.entry_name + ' ' + record.accessions[0] + '\\n'\n",
    "                + record.sequence + '\\n') # parantheses needed when making multiline string outside function\n",
    "\n",
    "mut_seq = '''>cyp21a2_translated_mut\n",
    "MLLLGLLLLLPLLAGARLLWNWWKLRSLHLPPLAPGFLHLLQPDLPIYLLGLTQKFGPIY\n",
    "RLHLGLQDVVVLNSKRTIEEAMVKKWADFAGRPEPLTYRLVSKNYPDLSLGDYSLLWKAH\n",
    "KKLTRSALLLGIRDSMEPVVEQLTQEFCERMRAQPGTPVAIEEEFSLLTCSIICYLTFGD\n",
    "KIKDDNLMPAYYKCIQEVLKTWSHWSIQIVDVIPFLRFFPNPGLRRLKQAIEKRDHIVEM\n",
    "QLRQHKESLVAGQWRDMMDYMLQGVAQPSMEEGSGQLLEGHVHMAAVDLLISGTETTANT\n",
    "LSWAVVFLLHHPEIQQRLQEELDHELGPGASSSRVPYKDRARLPLLNATIAEVLRLRPVV\n",
    "PLALPHRTTRPSSISGYDIPEGTVIIPNLQGAHLDETVWERPHEFWPDRFLEPGKNSRAL\n",
    "AFGCGARVRLGEPLARLELFVVLTRLLQAFTLLPSGDALPSLQPLPHCSVILKMQPFQVR\n",
    "LQPRGMGAHSPGQNQ'''\n",
    "\n",
    "with open('cyp21_comparison.fasta', 'w') as outfile:\n",
    "    outfile.write(cyp21_seq)\n",
    "    outfile.write(mut_seq)"
   ]
  },
  {
   "cell_type": "code",
   "execution_count": null,
   "metadata": {},
   "outputs": [],
   "source": [
    "# kalign used externally\n",
    "! kalign cyp21_comparison.fasta > cyp21_comparison.kali 2> /dev/null"
   ]
  },
  {
   "cell_type": "markdown",
   "metadata": {},
   "source": [
    "## Find mutations"
   ]
  },
  {
   "cell_type": "code",
   "execution_count": null,
   "metadata": {},
   "outputs": [],
   "source": [
    "from Bio import AlignIO\n",
    "alignment = AlignIO.read(\"cyp21_comparison.kali\", \"fasta\")\n",
    "\n",
    "print('Pos\\tCYP21\\tMut')\n",
    "muts = []\n",
    "prot_pos = 0\n",
    "positions = []\n",
    "for i in range(len(alignment[0])):\n",
    "    if alignment[0][i] != alignment[1][i]:\n",
    "        muts.append([str(prot_pos+1), alignment[0][i], alignment[1][i]])\n",
    "        positions.append(prot_pos+1)\n",
    "        print('\\t'.join(muts[-1]))\n",
    "    if alignment[0][i] != '-':\n",
    "        prot_pos += 1\n"
   ]
  },
  {
   "cell_type": "markdown",
   "metadata": {},
   "source": [
    "## Look for information in UniProt"
   ]
  },
  {
   "cell_type": "code",
   "execution_count": null,
   "metadata": {},
   "outputs": [],
   "source": [
    "handle = ExPASy.get_sprot_raw('P08686')\n",
    "record = SwissProt.read(handle)"
   ]
  },
  {
   "cell_type": "code",
   "execution_count": null,
   "metadata": {},
   "outputs": [],
   "source": [
    "for feature in record.features:\n",
    "    if feature[1] in positions:\n",
    "        print(feature)"
   ]
  },
  {
   "cell_type": "code",
   "execution_count": null,
   "metadata": {},
   "outputs": [],
   "source": [
    "for feature in record.features:\n",
    "    if feature[1] in positions:\n",
    "        print('\\t'.join([str(feature[1]), feature[3][:100]]))"
   ]
  }
 ],
 "metadata": {
  "kernelspec": {
   "display_name": "Python 3",
   "language": "python",
   "name": "python3"
  },
  "language_info": {
   "codemirror_mode": {
    "name": "ipython",
    "version": 3
   },
   "file_extension": ".py",
   "mimetype": "text/x-python",
   "name": "python",
   "nbconvert_exporter": "python",
   "pygments_lexer": "ipython3",
   "version": "3.7.2"
  }
 },
 "nbformat": 4,
 "nbformat_minor": 2
}
