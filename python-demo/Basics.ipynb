{
 "cells": [
  {
   "cell_type": "markdown",
   "metadata": {},
   "source": [
    "## Variables"
   ]
  },
  {
   "cell_type": "code",
   "execution_count": null,
   "metadata": {},
   "outputs": [],
   "source": [
    "# This is a comment and will not do anything in the program,\n",
    "# but is used to give extra information \n",
    "\n",
    "a = 1 # variable a contains the integer 1\n",
    "b = 2 # variable b contains the integer 2\n",
    "print('a =', a) # print to the screen\n",
    "print('b =', b)\n",
    "print('a + b =', a+b)"
   ]
  },
  {
   "cell_type": "code",
   "execution_count": null,
   "metadata": {},
   "outputs": [],
   "source": [
    "c = 'Text' # variable c contains the text string \"Text\"\n",
    "d = \"Text\" # variable c contains the text string \"Text\"\n",
    "e = '''Text''' # variable c contains the text string \"Text\"\n",
    "print(c, d, e)"
   ]
  },
  {
   "cell_type": "code",
   "execution_count": null,
   "metadata": {},
   "outputs": [],
   "source": [
    "f = 'a\n",
    "b' # Syntax error\n",
    "f = '''a\n",
    "b'''\n",
    "print(f)"
   ]
  },
  {
   "cell_type": "code",
   "execution_count": null,
   "metadata": {},
   "outputs": [],
   "source": [
    "g = 4\n",
    "h = 2\n",
    "print(g, '/', h, g/h) # \"float division\"\n",
    "print(g, '*', h, '=', g*h)\n",
    "print(g, '//', h, '=', g//h) # \"integer division\"\n",
    "print(g, '%', h, '=', g%h) # remain"
   ]
  },
  {
   "cell_type": "markdown",
   "metadata": {},
   "source": [
    "## Lists"
   ]
  },
  {
   "cell_type": "code",
   "execution_count": null,
   "metadata": {},
   "outputs": [],
   "source": [
    "a_list = [1, 2, 3, 4, 5, 6, 7, 8, 9]\n",
    "print('first element:', a_list[0])\n",
    "print('fourth element:', a_list[3])\n",
    "print('number of elements:', len(a_list))\n",
    "print('first-fourth element', a_list[0:4])\n",
    "print('every second element', a_list[::2])\n",
    "print('the last element:', a_list[-1])\n",
    "print('all but the last element:', a_list[:-1])\n",
    "print('reverse order:', a_list[::-1])"
   ]
  },
  {
   "cell_type": "code",
   "execution_count": null,
   "metadata": {},
   "outputs": [],
   "source": [
    "a_list.append(10) # add a value to a list\n",
    "print(a_list)"
   ]
  },
  {
   "cell_type": "markdown",
   "metadata": {},
   "source": [
    "## Flow control"
   ]
  },
  {
   "cell_type": "code",
   "execution_count": null,
   "metadata": {},
   "outputs": [],
   "source": [
    "a = 1\n",
    "if a == 2: # == equals\n",
    "    print('a =', a) # notice the indentation (4 spaces is standard)\n",
    "# remove the indentation when the code block is done\n",
    "a = 2\n",
    "if a == 2: # == equals\n",
    "    print('a =', a)"
   ]
  },
  {
   "cell_type": "code",
   "execution_count": null,
   "metadata": {},
   "outputs": [],
   "source": [
    "a = 2\n",
    "if a % 2 == 0: # a is even\n",
    "    print(a, 'is even')\n",
    "    if a % 3 == 0:\n",
    "        print(a, 'is also divisible by 3') # notice the second indentation\n",
    "\n",
    "a = 6\n",
    "if a % 2 == 0: # a is even\n",
    "    print(a, 'is even')\n",
    "    if a % 3 == 0:\n",
    "        print(a, 'is also divisible by 3') # not"
   ]
  },
  {
   "cell_type": "code",
   "execution_count": null,
   "metadata": {},
   "outputs": [],
   "source": [
    "print('Loop through the elements a list:')\n",
    "for element in a_list:\n",
    "    print(element)\n",
    "    \n",
    "print('Create a variable and use it to access all elements in the list:')    \n",
    "for i in range(len(a_list)):\n",
    "    print(a_list[i])"
   ]
  },
  {
   "cell_type": "code",
   "execution_count": null,
   "metadata": {},
   "outputs": [],
   "source": [
    "for element in a_list:\n",
    "    if element % 2 == 0:\n",
    "        print(element)"
   ]
  },
  {
   "cell_type": "code",
   "execution_count": null,
   "metadata": {},
   "outputs": [],
   "source": [
    "i = 0\n",
    "while i < 10:\n",
    "    print(i)\n",
    "    i = i + 1"
   ]
  },
  {
   "cell_type": "markdown",
   "metadata": {},
   "source": [
    "## Reusable code"
   ]
  },
  {
   "cell_type": "code",
   "execution_count": null,
   "metadata": {},
   "outputs": [],
   "source": [
    "def add_values(parameter1, parameter2):\n",
    "    print(parameter1 + parameter2)"
   ]
  },
  {
   "cell_type": "code",
   "execution_count": null,
   "metadata": {},
   "outputs": [],
   "source": [
    "add_values(1, 3)\n",
    "add_values(5.0, 5.0)\n",
    "add_values(10**6, 10**7) # 10^6 + 10^7"
   ]
  },
  {
   "cell_type": "code",
   "execution_count": null,
   "metadata": {},
   "outputs": [],
   "source": [
    "import math # use code from a module created elsewhere\n",
    "\n",
    "# 5 factorial = 5! =  1*2*3*4*5\n",
    "print(math.factorial(5)) # notice the dot, implying that we use a function that is part of the module math"
   ]
  },
  {
   "cell_type": "code",
   "execution_count": null,
   "metadata": {},
   "outputs": [],
   "source": [
    "input_file = open('textfile.txt') # open a file\n",
    "\n",
    "for line in input_file:\n",
    "    print(line)"
   ]
  },
  {
   "cell_type": "markdown",
   "metadata": {},
   "source": [
    "opening a file could also be written open(filename, 'r')\n",
    "\n",
    "'r' = read\n",
    "\n",
    "'w' = write\n",
    "\n",
    "'a' = append\n",
    "\n",
    "_'w' replaces the file, 'a' continues adding to the file_\n"
   ]
  },
  {
   "cell_type": "code",
   "execution_count": null,
   "metadata": {},
   "outputs": [],
   "source": [
    "a = 'Some text'\n",
    "out_file = open('saved_text.txt', 'w')\n",
    "out_file.write(a)\n",
    "out_file.close()"
   ]
  },
  {
   "cell_type": "code",
   "execution_count": null,
   "metadata": {},
   "outputs": [],
   "source": [
    "input_file = open('saved_text.txt')\n",
    "input_text = input_file.read() # read the whole file and save it to input_text, rather than reading it line by line\n",
    "print(input_text)"
   ]
  },
  {
   "cell_type": "markdown",
   "metadata": {},
   "source": [
    "## Create and save plots"
   ]
  },
  {
   "cell_type": "code",
   "execution_count": null,
   "metadata": {},
   "outputs": [],
   "source": [
    "a = [1,2,3,4,5,6]\n",
    "b = []\n",
    "for number in a:\n",
    "    b.append(number**2)\n",
    "\n",
    "print(a)\n",
    "print(b)"
   ]
  },
  {
   "cell_type": "code",
   "execution_count": null,
   "metadata": {},
   "outputs": [],
   "source": [
    "import matplotlib.pyplot\n",
    "\n",
    "%matplotlib inline\n",
    "figure = matplotlib.pyplot.figure(figsize=(20,10)) # figsize = size of figure; unit: inches\n",
    "plot = matplotlib.pyplot.plot(a, b)"
   ]
  },
  {
   "cell_type": "code",
   "execution_count": null,
   "metadata": {},
   "outputs": [],
   "source": [
    "figure.savefig('plot.png')"
   ]
  },
  {
   "cell_type": "code",
   "execution_count": null,
   "metadata": {},
   "outputs": [],
   "source": [
    "# open the file in an image viewer\n",
    "! gwenview plot.png"
   ]
  }
 ],
 "metadata": {
  "kernelspec": {
   "display_name": "Python 3",
   "language": "python",
   "name": "python3"
  },
  "language_info": {
   "codemirror_mode": {
    "name": "ipython",
    "version": 3
   },
   "file_extension": ".py",
   "mimetype": "text/x-python",
   "name": "python",
   "nbconvert_exporter": "python",
   "pygments_lexer": "ipython3",
   "version": "3.6.4"
  }
 },
 "nbformat": 4,
 "nbformat_minor": 2
}
