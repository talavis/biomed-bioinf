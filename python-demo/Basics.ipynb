{
 "cells": [
  {
   "cell_type": "markdown",
   "metadata": {},
   "source": [
    "## Variables"
   ]
  },
  {
   "cell_type": "code",
   "execution_count": null,
   "metadata": {},
   "outputs": [],
   "source": [
    "# This is a comment and will not do anything in the program,\n",
    "# but is used to give extra information \n",
    "\n",
    "a = 1 # variable a contains the integer 1\n",
    "b = 2 # variable b contains the integer 2\n",
    "print('a =', a) # print to the screen\n",
    "print('b =', b)\n",
    "print('a + b =', a+b)"
   ]
  },
  {
   "cell_type": "code",
   "execution_count": null,
   "metadata": {},
   "outputs": [],
   "source": [
    "c = 'Text' # variable c contains the text string \"Text\"\n",
    "d = \"Text\" # variable c contains the text string \"Text\"\n",
    "e = '''Text''' # variable c contains the text string \"Text\"\n",
    "print(c, d, e)"
   ]
  },
  {
   "cell_type": "code",
   "execution_count": null,
   "metadata": {},
   "outputs": [],
   "source": [
    "e = '''One\n",
    "two\n",
    "three'''\n",
    "print(e)"
   ]
  },
  {
   "cell_type": "markdown",
   "metadata": {},
   "source": [
    "## Lists"
   ]
  },
  {
   "cell_type": "code",
   "execution_count": null,
   "metadata": {},
   "outputs": [],
   "source": [
    "a_list = [1, 2, 3, 4, 5, 6, 7, 8, 9]\n",
    "print('first element:', a_list[0])\n",
    "print('fourth element:', a_list[3])\n",
    "print('number of elements:', len(a_list))\n",
    "print('first-fourth element', a_list[0:4])\n",
    "print('every second element', a_list[::2])\n",
    "print('the last element:', a_list[-1])\n",
    "print('all but the last element:', a_list[:-1])\n",
    "print('reverse order:', a_list[::-1])"
   ]
  },
  {
   "cell_type": "code",
   "execution_count": null,
   "metadata": {},
   "outputs": [],
   "source": [
    "a_list.append(10) # add a value to a list\n",
    "print(a_list)"
   ]
  },
  {
   "cell_type": "markdown",
   "metadata": {},
   "source": [
    "## Flow control"
   ]
  },
  {
   "cell_type": "code",
   "execution_count": null,
   "metadata": {},
   "outputs": [],
   "source": [
    "a = 1\n",
    "if a == 2: # == equals\n",
    "    print('a =', a) # notice the indentation (4 spaces is standard)\n",
    "# remove the indentation when the code block is done\n",
    "a = 2\n",
    "if a == 2: # == equals\n",
    "    print('a =', a)"
   ]
  },
  {
   "cell_type": "code",
   "execution_count": null,
   "metadata": {},
   "outputs": [],
   "source": [
    "a_list = [1,2,3,4]\n",
    "\n",
    "print('Loop through the elements a list:')\n",
    "for element in a_list:\n",
    "    print(element)"
   ]
  },
  {
   "cell_type": "code",
   "execution_count": null,
   "metadata": {},
   "outputs": [],
   "source": [
    "for element in a_list:\n",
    "    if element % 2 == 0:\n",
    "        print(element)"
   ]
  },
  {
   "cell_type": "markdown",
   "metadata": {},
   "source": [
    "## Reusable code"
   ]
  },
  {
   "cell_type": "code",
   "execution_count": null,
   "metadata": {},
   "outputs": [],
   "source": [
    "def add_values(parameter1, parameter2):\n",
    "    print(parameter1 + parameter2)"
   ]
  },
  {
   "cell_type": "code",
   "execution_count": null,
   "metadata": {},
   "outputs": [],
   "source": [
    "add_values(1, 3)\n",
    "add_values(5.0, 5.0)\n",
    "add_values(10**6, 10**7) # 10^6 + 10^7"
   ]
  },
  {
   "cell_type": "code",
   "execution_count": null,
   "metadata": {},
   "outputs": [],
   "source": [
    "import math # use code from a module created elsewhere\n",
    "\n",
    "# 5 factorial = 5! =  1*2*3*4*5\n",
    "print(math.factorial(5)) # notice the dot, implying that we use a function that is part of the module math"
   ]
  },
  {
   "cell_type": "code",
   "execution_count": null,
   "metadata": {},
   "outputs": [],
   "source": [
    "help(math)"
   ]
  },
  {
   "cell_type": "markdown",
   "metadata": {},
   "source": [
    "## File management"
   ]
  },
  {
   "cell_type": "code",
   "execution_count": null,
   "metadata": {},
   "outputs": [],
   "source": [
    "input_file = open('textfile.txt') # open a file\n",
    "\n",
    "for line in input_file:\n",
    "    print(line)"
   ]
  },
  {
   "cell_type": "markdown",
   "metadata": {},
   "source": [
    "Opening a file could also be written `open(filename, 'r')`\n",
    "\n",
    "Parameters:\n",
    "- `'r'` = read\n",
    "- `'w'` = write\n",
    "- `'a'` = append\n",
    "- _note: `'w'` replaces the file, `'a'` continues adding to the file_\n"
   ]
  },
  {
   "cell_type": "code",
   "execution_count": null,
   "metadata": {},
   "outputs": [],
   "source": [
    "a = 'Some text'\n",
    "out_file = open('saved_text.txt', 'a')\n",
    "out_file.write(a)\n",
    "out_file.close()"
   ]
  },
  {
   "cell_type": "code",
   "execution_count": null,
   "metadata": {},
   "outputs": [],
   "source": [
    "input_file = open('saved_text.txt')\n",
    "input_text = input_file.read() # read the whole file and save it to input_text, rather than reading it line by line\n",
    "print(input_text)"
   ]
  },
  {
   "cell_type": "markdown",
   "metadata": {},
   "source": [
    "## Parse a file"
   ]
  },
  {
   "cell_type": "code",
   "execution_count": null,
   "metadata": {},
   "outputs": [],
   "source": [
    "HEADERS = '#CHROM  POS     ID      REF     ALT     QUAL    FILTER  INFO'\n",
    "\n",
    "text = '''chr1    94134   .       C       T       45873.6 VQSRTrancheSNP99.90to100.00     AC=271;AF=0.141146;AN=1920;BaseQRankSum=0.766;ClippingRankSum=0;DP=15929;ExcessHet=6.8923;FS=6.151;InbreedingCoeff=-0.0489;MLEAC=276;MLEAF=0.144;MQ=26.84;MQRankSum=0.755;NEGATIVE_TRAIN_SITE;QD=7.98;ReadPosRankSum=-0.191;SOR=1.113;VQSLOD=-4.925;culprit=MQRankSum;NS_M=490;NS_F=470;NS=960;AN_M=980;AN_F=940;AF_M=0.134694;MAF_M=0.134694;AF_F=0.147872;MAF_F=0.147872;MAF=0.141146;AC_M=132;AC_F=139;AC_Het_M=120;AC_Het_F=121;AC_Het=241;AC_Hom_M=12;AC_Hom_F=18;AC_Hom=30;AC_Hemi_M=0;AC_Hemi_F=0;AC_Hemi=0;HWE_M=0.333874;ExcHet_M=0.183972;HWE_F=0.854241;ExcHet_F=0.408011;HWE=0.350194;ExcHet=0.171425\n",
    "chr1    94239   .       G       A       1085.97 VQSRTrancheSNP99.90to100.00     AC=27;AF=0.0138746;AN=1946;BaseQRankSum=2.51;ClippingRankSum=0;DP=20004;ExcessHet=0.476;FS=54.36;InbreedingCoeff=0.0267;MLEAC=23;MLEAF=0.012;MQ=30.39;MQRankSum=-1.129;QD=2.07;ReadPosRankSum=0.319;SOR=7.452;VQSLOD=-59.4;culprit=SOR;NS_M=493;NS_F=480;NS=973;AN_M=986;AN_F=960;AF_M=0.0111562;MAF_M=0.0111562;AF_F=0.0166667;MAF_F=0.0166667;MAF=0.0138746;AC_M=11;AC_F=16;AC_Het_M=9;AC_Het_F=16;AC_Het=25;AC_Hom_M=2;AC_Hom_F=0;AC_Hom=2;AC_Hemi_M=0;AC_Hemi_F=0;AC_Hemi=0;HWE_M=0.0548224;ExcHet_M=0.998992;HWE_F=1;ExcHet_F=0.880683;HWE=0.16712;ExcHet=0.987231\n",
    "chr1    94260   .       G       A       7562.35 VQSRTrancheSNP99.90to100.00     AC=108;AF=0.0554985;AN=1946;BaseQRankSum=2.64;ClippingRankSum=0;DP=20187;ExcessHet=5.9967;FS=38.845;InbreedingCoeff=-0.0313;MLEAC=105;MLEAF=0.054;MQ=24.76;MQRankSum=-0.477;QD=3.06;ReadPosRankSum=0.107;SOR=4.681;VQSLOD=-25.36;culprit=QD;NS_M=493;NS_F=480;NS=973;AN_M=986;AN_F=960;AF_M=0.0496957;MAF_M=0.0496957;AF_F=0.0614583;MAF_F=0.0614583;MAF=0.0554985;AC_M=49;AC_F=59;AC_Het_M=47;AC_Het_F=57;AC_Het=104;AC_Hom_M=2;AC_Hom_F=2;AC_Hom=4;AC_Hemi_M=0;AC_Hemi_F=0;AC_Hemi=0;HWE_M=1;ExcHet_M=0.661787;HWE_F=1;ExcHet_F=0.453107;HWE=0.7628;ExcHet=0.417465'''\n",
    "\n",
    "outfile = open('variants.vcf', 'w')\n",
    "outfile.write(text)\n",
    "outfile.close()\n",
    "\n",
    "data = []\n",
    "for line in open('variants.vcf'):\n",
    "    columns = line.split()\n",
    "    data.append(columns)\n",
    "\n",
    "print(data)"
   ]
  },
  {
   "cell_type": "code",
   "execution_count": null,
   "metadata": {},
   "outputs": [],
   "source": []
  },
  {
   "cell_type": "markdown",
   "metadata": {},
   "source": [
    "## Create and save plots"
   ]
  },
  {
   "cell_type": "code",
   "execution_count": null,
   "metadata": {},
   "outputs": [],
   "source": [
    "a = [1,2,3,4,5,6]\n",
    "b = []\n",
    "for number in a:\n",
    "    b.append(number**2)\n",
    "\n",
    "print(a)\n",
    "print(b)"
   ]
  },
  {
   "cell_type": "code",
   "execution_count": null,
   "metadata": {},
   "outputs": [],
   "source": [
    "import matplotlib.pyplot\n",
    "\n",
    "%matplotlib inline\n",
    "figure = matplotlib.pyplot.figure(figsize=(20,10)) # figsize = size of figure; unit: inches\n",
    "plot = matplotlib.pyplot.plot(a, b)"
   ]
  },
  {
   "cell_type": "code",
   "execution_count": null,
   "metadata": {},
   "outputs": [],
   "source": [
    "figure.savefig('plot.png')"
   ]
  },
  {
   "cell_type": "code",
   "execution_count": null,
   "metadata": {},
   "outputs": [],
   "source": [
    "# open the file in an image viewer\n",
    "! gwenview plot.png"
   ]
  }
 ],
 "metadata": {
  "kernelspec": {
   "display_name": "Python 3",
   "language": "python",
   "name": "python3"
  },
  "language_info": {
   "codemirror_mode": {
    "name": "ipython",
    "version": 3
   },
   "file_extension": ".py",
   "mimetype": "text/x-python",
   "name": "python",
   "nbconvert_exporter": "python",
   "pygments_lexer": "ipython3",
   "version": "3.7.2"
  }
 },
 "nbformat": 4,
 "nbformat_minor": 2
}
