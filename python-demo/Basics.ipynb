{
 "cells": [
  {
   "cell_type": "markdown",
   "metadata": {},
   "source": [
    "## Variables"
   ]
  },
  {
   "cell_type": "code",
   "execution_count": 1,
   "metadata": {},
   "outputs": [
    {
     "name": "stdout",
     "output_type": "stream",
     "text": [
      "a = 1\n",
      "b = 2\n",
      "a + b = 3\n"
     ]
    }
   ],
   "source": [
    "# This is a comment and will not do anything in the program,\n",
    "# but is used to give extra information \n",
    "\n",
    "a = 1 # variable a contains the integer 1\n",
    "b = 2 # variable b contains the integer 2\n",
    "print('a =', a) # print to the screen\n",
    "print('b =', b)\n",
    "print('a + b =', a+b)"
   ]
  },
  {
   "cell_type": "code",
   "execution_count": 2,
   "metadata": {},
   "outputs": [
    {
     "name": "stdout",
     "output_type": "stream",
     "text": [
      "Text Text Text\n"
     ]
    }
   ],
   "source": [
    "c = 'Text' # variable c contains the text string \"Text\"\n",
    "d = \"Text\" # variable c contains the text string \"Text\"\n",
    "e = '''Text''' # variable c contains the text string \"Text\"\n",
    "print(c, d, e)"
   ]
  },
  {
   "cell_type": "code",
   "execution_count": 4,
   "metadata": {},
   "outputs": [
    {
     "name": "stdout",
     "output_type": "stream",
     "text": [
      "a\n",
      "b\n"
     ]
    }
   ],
   "source": [
    "#f = 'a\n",
    "#b' # Syntax error\n",
    "f = '''a\n",
    "b'''\n",
    "print(f)"
   ]
  },
  {
   "cell_type": "code",
   "execution_count": 8,
   "metadata": {},
   "outputs": [
    {
     "name": "stdout",
     "output_type": "stream",
     "text": [
      "4 / 2 2.0\n",
      "4 * 2 = 8\n",
      "4 // 2 = 2\n",
      "4 % 2 = 0\n",
      "2\n",
      "1\n"
     ]
    }
   ],
   "source": [
    "g = 4\n",
    "h = 2\n",
    "print(g, '/', h, g/h) # \"float division\"\n",
    "print(g, '*', h, '=', g*h)\n",
    "print(g, '//', h, '=', g//h) # \"integer division\"\n",
    "print(g, '%', h, '=', g%h) # remain\n",
    "print(5//2)\n",
    "print(5%2)"
   ]
  },
  {
   "cell_type": "code",
   "execution_count": 11,
   "metadata": {},
   "outputs": [
    {
     "name": "stdout",
     "output_type": "stream",
     "text": [
      "1 + 5 = 6\n"
     ]
    },
    {
     "data": {
      "text/plain": [
       "5"
      ]
     },
     "execution_count": 11,
     "metadata": {},
     "output_type": "execute_result"
    }
   ],
   "source": [
    "print('1 + ' + str(5) + ' = ' + str(6))\n",
    "\n",
    "str(5) # change 5 to a string, ie '5'\n",
    "int('5') # change '5' to an integer, ie 5"
   ]
  },
  {
   "cell_type": "code",
   "execution_count": 12,
   "metadata": {},
   "outputs": [
    {
     "ename": "TypeError",
     "evalue": "must be str, not int",
     "output_type": "error",
     "traceback": [
      "\u001b[0;31m---------------------------------------------------------------------------\u001b[0m",
      "\u001b[0;31mTypeError\u001b[0m                                 Traceback (most recent call last)",
      "\u001b[0;32m<ipython-input-12-c7e034856c6f>\u001b[0m in \u001b[0;36m<module>\u001b[0;34m()\u001b[0m\n\u001b[0;32m----> 1\u001b[0;31m \u001b[0mprint\u001b[0m\u001b[0;34m(\u001b[0m\u001b[0;34m'5'\u001b[0m \u001b[0;34m+\u001b[0m \u001b[0;36m5\u001b[0m\u001b[0;34m)\u001b[0m \u001b[0;31m# Error\u001b[0m\u001b[0;34m\u001b[0m\u001b[0m\n\u001b[0m",
      "\u001b[0;31mTypeError\u001b[0m: must be str, not int"
     ]
    }
   ],
   "source": [
    "print('5' + 5) # Error"
   ]
  },
  {
   "cell_type": "code",
   "execution_count": 13,
   "metadata": {},
   "outputs": [
    {
     "name": "stdout",
     "output_type": "stream",
     "text": [
      "55\n"
     ]
    }
   ],
   "source": [
    "print('5'+'5') # '55'"
   ]
  },
  {
   "cell_type": "markdown",
   "metadata": {},
   "source": [
    "## Lists"
   ]
  },
  {
   "cell_type": "code",
   "execution_count": 14,
   "metadata": {},
   "outputs": [
    {
     "name": "stdout",
     "output_type": "stream",
     "text": [
      "first element: 1\n",
      "fourth element: 4\n",
      "number of elements: 9\n",
      "first-fourth element [1, 2, 3, 4]\n",
      "every second element [1, 3, 5, 7, 9]\n",
      "the last element: 9\n",
      "all but the last element: [1, 2, 3, 4, 5, 6, 7, 8]\n",
      "reverse order: [9, 8, 7, 6, 5, 4, 3, 2, 1]\n"
     ]
    }
   ],
   "source": [
    "a_list = [1, 2, 3, 4, 5, 6, 7, 8, 9]\n",
    "print('first element:', a_list[0])\n",
    "print('fourth element:', a_list[3])\n",
    "print('number of elements:', len(a_list))\n",
    "print('first-fourth element', a_list[0:4])\n",
    "print('every second element', a_list[::2])\n",
    "print('the last element:', a_list[-1])\n",
    "print('all but the last element:', a_list[:-1])\n",
    "print('reverse order:', a_list[::-1])"
   ]
  },
  {
   "cell_type": "code",
   "execution_count": 17,
   "metadata": {},
   "outputs": [
    {
     "name": "stdout",
     "output_type": "stream",
     "text": [
      "[1, 2, 3, 4, 5, 6, 7, 8, 9, 10, 10, 10]\n"
     ]
    }
   ],
   "source": [
    "a_list.append(10) # add a value to a list\n",
    "print(a_list)"
   ]
  },
  {
   "cell_type": "markdown",
   "metadata": {},
   "source": [
    "## Flow control"
   ]
  },
  {
   "cell_type": "code",
   "execution_count": 18,
   "metadata": {},
   "outputs": [
    {
     "name": "stdout",
     "output_type": "stream",
     "text": [
      "a = 2\n"
     ]
    }
   ],
   "source": [
    "a = 1\n",
    "if a == 2: # == equals\n",
    "    print('a =', a) # notice the indentation (4 spaces is standard)\n",
    "# remove the indentation when the code block is done\n",
    "a = 2\n",
    "if a == 2: # == equals\n",
    "    print('a =', a)"
   ]
  },
  {
   "cell_type": "code",
   "execution_count": 21,
   "metadata": {},
   "outputs": [
    {
     "name": "stdout",
     "output_type": "stream",
     "text": [
      "2 is even\n",
      "6 is even\n",
      "6 is also divisible by 3\n",
      "2 is even\n",
      "2 is not divisible by 3\n"
     ]
    }
   ],
   "source": [
    "a = 2\n",
    "if a % 2 == 0: # a is even\n",
    "    print(a, 'is even')\n",
    "    if a % 3 == 0:\n",
    "        print(a, 'is also divisible by 3') # notice the second indentation\n",
    "\n",
    "a = 6\n",
    "if a % 2 == 0:\n",
    "    print(a, 'is even')\n",
    "    if a % 3 == 0:\n",
    "        print(a, 'is also divisible by 3')\n",
    "        \n",
    "a = 2\n",
    "if a % 2 == 0:\n",
    "    print(a, 'is even')\n",
    "    if a % 3 == 0:\n",
    "        print(a, 'is also divisible by 3')\n",
    "    else:\n",
    "        print(a, 'is not divisible by 3')"
   ]
  },
  {
   "cell_type": "code",
   "execution_count": 26,
   "metadata": {},
   "outputs": [
    {
     "name": "stdout",
     "output_type": "stream",
     "text": [
      "Loop through the elements a list:\n",
      "1\n",
      "2\n",
      "3\n",
      "4\n",
      "5\n",
      "6\n",
      "7\n",
      "8\n",
      "9\n",
      "10\n",
      "10\n",
      "10\n",
      "Create a variable and use it to access all elements in the list:\n",
      "i = 0\n",
      "1\n",
      "i = 1\n",
      "2\n",
      "i = 2\n",
      "3\n",
      "i = 3\n",
      "4\n",
      "i = 4\n",
      "5\n",
      "i = 5\n",
      "6\n",
      "i = 6\n",
      "7\n",
      "i = 7\n",
      "8\n",
      "i = 8\n",
      "9\n",
      "i = 9\n",
      "10\n",
      "i = 10\n",
      "10\n",
      "i = 11\n",
      "10\n"
     ]
    }
   ],
   "source": [
    "print('Loop through the elements a list:')\n",
    "for element in a_list:\n",
    "    print(element)\n",
    "    \n",
    "print('Create a variable and use it to access all elements in the list:')    \n",
    "for i in range(len(a_list)):\n",
    "    print('i =',i)\n",
    "    print(a_list[i])"
   ]
  },
  {
   "cell_type": "code",
   "execution_count": 27,
   "metadata": {},
   "outputs": [
    {
     "name": "stdout",
     "output_type": "stream",
     "text": [
      "2\n",
      "4\n",
      "6\n",
      "8\n",
      "10\n",
      "10\n",
      "10\n"
     ]
    }
   ],
   "source": [
    "for element in a_list:\n",
    "    if element % 2 == 0:\n",
    "        print(element)"
   ]
  },
  {
   "cell_type": "code",
   "execution_count": 28,
   "metadata": {},
   "outputs": [
    {
     "name": "stdout",
     "output_type": "stream",
     "text": [
      "0\n",
      "1\n",
      "2\n",
      "3\n",
      "4\n",
      "5\n",
      "6\n",
      "7\n",
      "8\n",
      "9\n"
     ]
    }
   ],
   "source": [
    "i = 0\n",
    "while i < 10:\n",
    "    print(i)\n",
    "    i = i + 1"
   ]
  },
  {
   "cell_type": "code",
   "execution_count": 31,
   "metadata": {},
   "outputs": [
    {
     "name": "stdout",
     "output_type": "stream",
     "text": [
      "0\n",
      "1\n",
      "2\n",
      "3\n",
      "4\n",
      "5\n",
      "6\n",
      "7\n",
      "8\n",
      "9\n",
      "5\n"
     ]
    }
   ],
   "source": []
  },
  {
   "cell_type": "markdown",
   "metadata": {},
   "source": [
    "## Reusable code"
   ]
  },
  {
   "cell_type": "code",
   "execution_count": 32,
   "metadata": {},
   "outputs": [],
   "source": [
    "def add_values(parameter1, parameter2):\n",
    "    print(parameter1 + parameter2)"
   ]
  },
  {
   "cell_type": "code",
   "execution_count": 33,
   "metadata": {},
   "outputs": [
    {
     "name": "stdout",
     "output_type": "stream",
     "text": [
      "4\n",
      "10.0\n",
      "11000000\n"
     ]
    }
   ],
   "source": [
    "add_values(1, 3)\n",
    "add_values(5.0, 5.0)\n",
    "add_values(10**6, 10**7) # 10^6 + 10^7"
   ]
  },
  {
   "cell_type": "code",
   "execution_count": 41,
   "metadata": {},
   "outputs": [
    {
     "name": "stdout",
     "output_type": "stream",
     "text": [
      "4\n"
     ]
    }
   ],
   "source": [
    "def add_values(parameter1, parameter2):\n",
    "    return parameter1 + parameter2\n",
    "\n",
    "c = add_values(1,3)\n",
    "print(c)"
   ]
  },
  {
   "cell_type": "code",
   "execution_count": 42,
   "metadata": {},
   "outputs": [
    {
     "name": "stdout",
     "output_type": "stream",
     "text": [
      "120\n"
     ]
    }
   ],
   "source": [
    "import math # use code from a module created elsewhere\n",
    "\n",
    "# 5 factorial = 5! =  1*2*3*4*5\n",
    "print(math.factorial(5)) # notice the dot, implying that we use a function that is part of the module math"
   ]
  },
  {
   "cell_type": "code",
   "execution_count": 43,
   "metadata": {},
   "outputs": [
    {
     "name": "stdout",
     "output_type": "stream",
     "text": [
      "Help on module math:\n",
      "\n",
      "NAME\n",
      "    math\n",
      "\n",
      "MODULE REFERENCE\n",
      "    https://docs.python.org/3.6/library/math\n",
      "    \n",
      "    The following documentation is automatically generated from the Python\n",
      "    source files.  It may be incomplete, incorrect or include features that\n",
      "    are considered implementation detail and may vary between Python\n",
      "    implementations.  When in doubt, consult the module reference at the\n",
      "    location listed above.\n",
      "\n",
      "DESCRIPTION\n",
      "    This module is always available.  It provides access to the\n",
      "    mathematical functions defined by the C standard.\n",
      "\n",
      "FUNCTIONS\n",
      "    acos(...)\n",
      "        acos(x)\n",
      "        \n",
      "        Return the arc cosine (measured in radians) of x.\n",
      "    \n",
      "    acosh(...)\n",
      "        acosh(x)\n",
      "        \n",
      "        Return the inverse hyperbolic cosine of x.\n",
      "    \n",
      "    asin(...)\n",
      "        asin(x)\n",
      "        \n",
      "        Return the arc sine (measured in radians) of x.\n",
      "    \n",
      "    asinh(...)\n",
      "        asinh(x)\n",
      "        \n",
      "        Return the inverse hyperbolic sine of x.\n",
      "    \n",
      "    atan(...)\n",
      "        atan(x)\n",
      "        \n",
      "        Return the arc tangent (measured in radians) of x.\n",
      "    \n",
      "    atan2(...)\n",
      "        atan2(y, x)\n",
      "        \n",
      "        Return the arc tangent (measured in radians) of y/x.\n",
      "        Unlike atan(y/x), the signs of both x and y are considered.\n",
      "    \n",
      "    atanh(...)\n",
      "        atanh(x)\n",
      "        \n",
      "        Return the inverse hyperbolic tangent of x.\n",
      "    \n",
      "    ceil(...)\n",
      "        ceil(x)\n",
      "        \n",
      "        Return the ceiling of x as an Integral.\n",
      "        This is the smallest integer >= x.\n",
      "    \n",
      "    copysign(...)\n",
      "        copysign(x, y)\n",
      "        \n",
      "        Return a float with the magnitude (absolute value) of x but the sign \n",
      "        of y. On platforms that support signed zeros, copysign(1.0, -0.0) \n",
      "        returns -1.0.\n",
      "    \n",
      "    cos(...)\n",
      "        cos(x)\n",
      "        \n",
      "        Return the cosine of x (measured in radians).\n",
      "    \n",
      "    cosh(...)\n",
      "        cosh(x)\n",
      "        \n",
      "        Return the hyperbolic cosine of x.\n",
      "    \n",
      "    degrees(...)\n",
      "        degrees(x)\n",
      "        \n",
      "        Convert angle x from radians to degrees.\n",
      "    \n",
      "    erf(...)\n",
      "        erf(x)\n",
      "        \n",
      "        Error function at x.\n",
      "    \n",
      "    erfc(...)\n",
      "        erfc(x)\n",
      "        \n",
      "        Complementary error function at x.\n",
      "    \n",
      "    exp(...)\n",
      "        exp(x)\n",
      "        \n",
      "        Return e raised to the power of x.\n",
      "    \n",
      "    expm1(...)\n",
      "        expm1(x)\n",
      "        \n",
      "        Return exp(x)-1.\n",
      "        This function avoids the loss of precision involved in the direct evaluation of exp(x)-1 for small x.\n",
      "    \n",
      "    fabs(...)\n",
      "        fabs(x)\n",
      "        \n",
      "        Return the absolute value of the float x.\n",
      "    \n",
      "    factorial(...)\n",
      "        factorial(x) -> Integral\n",
      "        \n",
      "        Find x!. Raise a ValueError if x is negative or non-integral.\n",
      "    \n",
      "    floor(...)\n",
      "        floor(x)\n",
      "        \n",
      "        Return the floor of x as an Integral.\n",
      "        This is the largest integer <= x.\n",
      "    \n",
      "    fmod(...)\n",
      "        fmod(x, y)\n",
      "        \n",
      "        Return fmod(x, y), according to platform C.  x % y may differ.\n",
      "    \n",
      "    frexp(...)\n",
      "        frexp(x)\n",
      "        \n",
      "        Return the mantissa and exponent of x, as pair (m, e).\n",
      "        m is a float and e is an int, such that x = m * 2.**e.\n",
      "        If x is 0, m and e are both 0.  Else 0.5 <= abs(m) < 1.0.\n",
      "    \n",
      "    fsum(...)\n",
      "        fsum(iterable)\n",
      "        \n",
      "        Return an accurate floating point sum of values in the iterable.\n",
      "        Assumes IEEE-754 floating point arithmetic.\n",
      "    \n",
      "    gamma(...)\n",
      "        gamma(x)\n",
      "        \n",
      "        Gamma function at x.\n",
      "    \n",
      "    gcd(...)\n",
      "        gcd(x, y) -> int\n",
      "        greatest common divisor of x and y\n",
      "    \n",
      "    hypot(...)\n",
      "        hypot(x, y)\n",
      "        \n",
      "        Return the Euclidean distance, sqrt(x*x + y*y).\n",
      "    \n",
      "    isclose(...)\n",
      "        isclose(a, b, *, rel_tol=1e-09, abs_tol=0.0) -> bool\n",
      "        \n",
      "        Determine whether two floating point numbers are close in value.\n",
      "        \n",
      "           rel_tol\n",
      "               maximum difference for being considered \"close\", relative to the\n",
      "               magnitude of the input values\n",
      "            abs_tol\n",
      "               maximum difference for being considered \"close\", regardless of the\n",
      "               magnitude of the input values\n",
      "        \n",
      "        Return True if a is close in value to b, and False otherwise.\n",
      "        \n",
      "        For the values to be considered close, the difference between them\n",
      "        must be smaller than at least one of the tolerances.\n",
      "        \n",
      "        -inf, inf and NaN behave similarly to the IEEE 754 Standard.  That\n",
      "        is, NaN is not close to anything, even itself.  inf and -inf are\n",
      "        only close to themselves.\n",
      "    \n",
      "    isfinite(...)\n",
      "        isfinite(x) -> bool\n",
      "        \n",
      "        Return True if x is neither an infinity nor a NaN, and False otherwise.\n",
      "    \n",
      "    isinf(...)\n",
      "        isinf(x) -> bool\n",
      "        \n",
      "        Return True if x is a positive or negative infinity, and False otherwise.\n",
      "    \n",
      "    isnan(...)\n",
      "        isnan(x) -> bool\n",
      "        \n",
      "        Return True if x is a NaN (not a number), and False otherwise.\n",
      "    \n",
      "    ldexp(...)\n",
      "        ldexp(x, i)\n",
      "        \n",
      "        Return x * (2**i).\n",
      "    \n",
      "    lgamma(...)\n",
      "        lgamma(x)\n",
      "        \n",
      "        Natural logarithm of absolute value of Gamma function at x.\n",
      "    \n",
      "    log(...)\n",
      "        log(x[, base])\n",
      "        \n",
      "        Return the logarithm of x to the given base.\n",
      "        If the base not specified, returns the natural logarithm (base e) of x.\n",
      "    \n",
      "    log10(...)\n",
      "        log10(x)\n",
      "        \n",
      "        Return the base 10 logarithm of x.\n",
      "    \n",
      "    log1p(...)\n",
      "        log1p(x)\n",
      "        \n",
      "        Return the natural logarithm of 1+x (base e).\n",
      "        The result is computed in a way which is accurate for x near zero.\n",
      "    \n",
      "    log2(...)\n",
      "        log2(x)\n",
      "        \n",
      "        Return the base 2 logarithm of x.\n",
      "    \n",
      "    modf(...)\n",
      "        modf(x)\n",
      "        \n",
      "        Return the fractional and integer parts of x.  Both results carry the sign\n",
      "        of x and are floats.\n",
      "    \n",
      "    pow(...)\n",
      "        pow(x, y)\n",
      "        \n",
      "        Return x**y (x to the power of y).\n",
      "    \n",
      "    radians(...)\n",
      "        radians(x)\n",
      "        \n",
      "        Convert angle x from degrees to radians.\n",
      "    \n",
      "    sin(...)\n",
      "        sin(x)\n",
      "        \n",
      "        Return the sine of x (measured in radians).\n",
      "    \n",
      "    sinh(...)\n",
      "        sinh(x)\n",
      "        \n",
      "        Return the hyperbolic sine of x.\n",
      "    \n",
      "    sqrt(...)\n",
      "        sqrt(x)\n",
      "        \n",
      "        Return the square root of x.\n",
      "    \n",
      "    tan(...)\n",
      "        tan(x)\n",
      "        \n",
      "        Return the tangent of x (measured in radians).\n",
      "    \n",
      "    tanh(...)\n",
      "        tanh(x)\n",
      "        \n",
      "        Return the hyperbolic tangent of x.\n",
      "    \n",
      "    trunc(...)\n",
      "        trunc(x:Real) -> Integral\n",
      "        \n",
      "        Truncates x to the nearest Integral toward 0. Uses the __trunc__ magic method.\n",
      "\n",
      "DATA\n",
      "    e = 2.718281828459045\n",
      "    inf = inf\n",
      "    nan = nan\n",
      "    pi = 3.141592653589793\n",
      "    tau = 6.283185307179586\n",
      "\n",
      "FILE\n",
      "    /usr/lib/python3.6/lib-dynload/math.cpython-36m-x86_64-linux-gnu.so\n",
      "\n",
      "\n"
     ]
    }
   ],
   "source": [
    "help(math)"
   ]
  },
  {
   "cell_type": "code",
   "execution_count": 44,
   "metadata": {},
   "outputs": [
    {
     "name": "stdout",
     "output_type": "stream",
     "text": [
      "Hello!\n",
      "\n",
      "Goodbye!\n",
      "\n",
      "\n",
      "\n"
     ]
    }
   ],
   "source": [
    "input_file = open('textfile.txt') # open a file\n",
    "\n",
    "for line in input_file:\n",
    "    print(line)"
   ]
  },
  {
   "cell_type": "markdown",
   "metadata": {},
   "source": [
    "opening a file could also be written open(filename, 'r')\n",
    "\n",
    "'r' = read\n",
    "\n",
    "'w' = write\n",
    "\n",
    "'a' = append\n",
    "\n",
    "_'w' replaces the file, 'a' continues adding to the file_\n"
   ]
  },
  {
   "cell_type": "code",
   "execution_count": 54,
   "metadata": {},
   "outputs": [],
   "source": [
    "a = 'Some text'\n",
    "out_file = open('saved_text.txt', 'a')\n",
    "out_file.write(a)\n",
    "out_file.close()"
   ]
  },
  {
   "cell_type": "code",
   "execution_count": 55,
   "metadata": {},
   "outputs": [
    {
     "name": "stdout",
     "output_type": "stream",
     "text": [
      "Some textSome textSome textSome textSome textSome textSome textSome textSome text\n"
     ]
    }
   ],
   "source": [
    "input_file = open('saved_text.txt')\n",
    "input_text = input_file.read() # read the whole file and save it to input_text, rather than reading it line by line\n",
    "print(input_text)"
   ]
  },
  {
   "cell_type": "markdown",
   "metadata": {},
   "source": [
    "## Create and save plots"
   ]
  },
  {
   "cell_type": "code",
   "execution_count": 56,
   "metadata": {},
   "outputs": [
    {
     "name": "stdout",
     "output_type": "stream",
     "text": [
      "[1, 2, 3, 4, 5, 6]\n",
      "[1, 4, 9, 16, 25, 36]\n"
     ]
    }
   ],
   "source": [
    "a = [1,2,3,4,5,6]\n",
    "b = []\n",
    "for number in a:\n",
    "    b.append(number**2)\n",
    "\n",
    "print(a)\n",
    "print(b)"
   ]
  },
  {
   "cell_type": "code",
   "execution_count": 60,
   "metadata": {},
   "outputs": [
    {
     "data": {
      "image/png": "[encoded data removed]",
      "text/plain": [
       "<matplotlib.figure.Figure at 0x7f4922759208>"
      ]
     },
     "metadata": {},
     "output_type": "display_data"
    }
   ],
   "source": [
    "import matplotlib.pyplot\n",
    "\n",
    "%matplotlib inline\n",
    "figure = matplotlib.pyplot.figure(figsize=(20,10)) # figsize = size of figure; unit: inches\n",
    "plot = matplotlib.pyplot.plot(a, b)"
   ]
  },
  {
   "cell_type": "code",
   "execution_count": 61,
   "metadata": {},
   "outputs": [],
   "source": [
    "figure.savefig('plot.png')"
   ]
  },
  {
   "cell_type": "code",
   "execution_count": 62,
   "metadata": {},
   "outputs": [
    {
     "name": "stdout",
     "output_type": "stream",
     "text": [
      "Gwenview can only apply color profile on RGB32 or ARGB32 images\n",
      "UdevQt: unhandled device action \"unbind\"\n",
      "UdevQt: unhandled device action \"unbind\"\n",
      "UdevQt: unhandled device action \"unbind\"\n",
      "UdevQt: unhandled device action \"unbind\"\n",
      "UdevQt: unhandled device action \"unbind\"\n",
      "UdevQt: unhandled device action \"unbind\"\n",
      "UdevQt: unhandled device action \"unbind\"\n",
      "UdevQt: unhandled device action \"unbind\"\n",
      "UdevQt: unhandled device action \"unbind\"\n",
      "UdevQt: unhandled device action \"unbind\"\n",
      "UdevQt: unhandled device action \"unbind\"\n",
      "UdevQt: unhandled device action \"bind\"\n",
      "UdevQt: unhandled device action \"bind\"\n",
      "UdevQt: unhandled device action \"bind\"\n",
      "UdevQt: unhandled device action \"bind\"\n",
      "UdevQt: unhandled device action \"bind\"\n",
      "UdevQt: unhandled device action \"bind\"\n",
      "UdevQt: unhandled device action \"bind\"\n",
      "UdevQt: unhandled device action \"bind\"\n",
      "UdevQt: unhandled device action \"bind\"\n",
      "UdevQt: unhandled device action \"bind\"\n",
      "UdevQt: unhandled device action \"bind\"\n",
      "UdevQt: unhandled device action \"move\"\n",
      "UdevQt: unhandled device action \"unbind\"\n",
      "UdevQt: unhandled device action \"unbind\"\n",
      "UdevQt: unhandled device action \"unbind\"\n",
      "UdevQt: unhandled device action \"unbind\"\n",
      "UdevQt: unhandled device action \"unbind\"\n",
      "UdevQt: unhandled device action \"unbind\"\n",
      "UdevQt: unhandled device action \"unbind\"\n",
      "UdevQt: unhandled device action \"unbind\"\n",
      "UdevQt: unhandled device action \"unbind\"\n",
      "UdevQt: unhandled device action \"unbind\"\n",
      "UdevQt: unhandled device action \"unbind\"\n",
      "UdevQt: unhandled device action \"unbind\"\n",
      "UdevQt: unhandled device action \"unbind\"\n",
      "UdevQt: unhandled device action \"unbind\"\n",
      "UdevQt: unhandled device action \"bind\"\n",
      "UdevQt: unhandled device action \"bind\"\n",
      "UdevQt: unhandled device action \"bind\"\n",
      "UdevQt: unhandled device action \"move\"\n",
      "UdevQt: unhandled device action \"bind\"\n",
      "UdevQt: unhandled device action \"bind\"\n",
      "UdevQt: unhandled device action \"bind\"\n",
      "UdevQt: unhandled device action \"bind\"\n",
      "UdevQt: unhandled device action \"bind\"\n",
      "UdevQt: unhandled device action \"bind\"\n",
      "UdevQt: unhandled device action \"bind\"\n",
      "UdevQt: unhandled device action \"bind\"\n",
      "UdevQt: unhandled device action \"bind\"\n",
      "UdevQt: unhandled device action \"bind\"\n",
      "UdevQt: unhandled device action \"bind\"\n",
      "UdevQt: unhandled device action \"move\"\n",
      "UdevQt: unhandled device action \"bind\"\n",
      "UdevQt: unhandled device action \"unbind\"\n",
      "UdevQt: unhandled device action \"bind\"\n",
      "UdevQt: unhandled device action \"bind\"\n",
      "UdevQt: unhandled device action \"bind\"\n",
      "UdevQt: unhandled device action \"bind\"\n"
     ]
    }
   ],
   "source": [
    "# open the file in an image viewer\n",
    "! gwenview plot.png"
   ]
  }
 ],
 "metadata": {
  "kernelspec": {
   "display_name": "Python 3",
   "language": "python",
   "name": "python3"
  },
  "language_info": {
   "codemirror_mode": {
    "name": "ipython",
    "version": 3
   },
   "file_extension": ".py",
   "mimetype": "text/x-python",
   "name": "python",
   "nbconvert_exporter": "python",
   "pygments_lexer": "ipython3",
   "version": "3.6.4"
  }
 },
 "nbformat": 4,
 "nbformat_minor": 2
}
